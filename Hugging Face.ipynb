{
 "cells": [
  {
   "cell_type": "code",
   "execution_count": 15,
   "id": "9e9b4384",
   "metadata": {},
   "outputs": [],
   "source": [
    "#pip install transformers --user\n",
    "#pip install torch --user "
   ]
  },
  {
   "cell_type": "code",
   "execution_count": 33,
   "id": "1b5073f5",
   "metadata": {},
   "outputs": [],
   "source": [
    "from transformers import pipeline, AutoTokenizer,AutoModelForSequenceClassification\n",
    "import torch\n",
    "import torch.nn.functional as F\n"
   ]
  },
  {
   "cell_type": "code",
   "execution_count": 17,
   "id": "f995c5ce",
   "metadata": {},
   "outputs": [
    {
     "name": "stderr",
     "output_type": "stream",
     "text": [
      "No model was supplied, defaulted to distilbert-base-uncased-finetuned-sst-2-english and revision af0f99b (https://huggingface.co/distilbert-base-uncased-finetuned-sst-2-english).\n",
      "Using a pipeline without specifying a model name and revision in production is not recommended.\n"
     ]
    },
    {
     "data": {
      "text/plain": [
       "[{'label': 'POSITIVE', 'score': 0.9998531341552734},\n",
       " {'label': 'NEGATIVE', 'score': 0.9997685551643372}]"
      ]
     },
     "execution_count": 17,
     "metadata": {},
     "output_type": "execute_result"
    }
   ],
   "source": [
    "classifier = pipeline(\"sentiment-analysis\")\n",
    "results=classifier([\"I'm so happy to see you\", 'I am kind of not okay'])\n",
    "results"
   ]
  },
  {
   "cell_type": "markdown",
   "id": "fb849d48",
   "metadata": {},
   "source": [
    "# How the pipeline works - under the hood "
   ]
  },
  {
   "cell_type": "markdown",
   "id": "32d14416",
   "metadata": {},
   "source": [
    "## Tokenizer ====> Model ====> postprocessing "
   ]
  },
  {
   "cell_type": "markdown",
   "id": "d07690c2",
   "metadata": {},
   "source": [
    "---\n",
    "<ol>\n",
    "    <li>Raw text (I'm Good )</li>\n",
    "    <li>outputids (101, 2002,566... 102 ) </li>\n",
    "    <li>Logits ([-4.021, 5.2458] )</li>\n",
    "    <li>prediction ({POSITIVE:98.245%, NEGATIVE:2.547%} )</li>\n",
    "    </ol>\n",
    "    \n",
    "    \n",
    "    \n",
    "    "
   ]
  },
  {
   "cell_type": "markdown",
   "id": "ac0fc0d7",
   "metadata": {},
   "source": [
    "## Tokenizer \n",
    "\n",
    "raw text > tokens ->add special token (at the beginning and at the end of the text) -> input ids"
   ]
  },
  {
   "cell_type": "code",
   "execution_count": 2,
   "id": "eb0766a3",
   "metadata": {},
   "outputs": [
    {
     "name": "stdout",
     "output_type": "stream",
     "text": [
      "{'input_ids': tensor([[ 101, 1045, 1005, 1049, 2061, 3407, 2000, 2156, 2017,  102],\n",
      "        [ 101, 1045, 2572, 2785, 1997, 2025, 3100,  102,    0,    0]]), 'attention_mask': tensor([[1, 1, 1, 1, 1, 1, 1, 1, 1, 1],\n",
      "        [1, 1, 1, 1, 1, 1, 1, 1, 0, 0]])}\n"
     ]
    }
   ],
   "source": [
    "from transformers import AutoTokenizer\n",
    "\n",
    "model_name = \"distilbert-base-uncased-finetuned-sst-2-english\"\n",
    "\n",
    "tokenizer = AutoTokenizer.from_pretrained(model_name)\n",
    "# from_pretrained -> will download and cache the vocabulary associated with model_name (distilbert-base-uncased-finetuned-sst-2-english)\n",
    "raw_inputs = [\"I'm so happy to see you\", 'I am kind of not okay']\n",
    "\n",
    "inputs= tokenizer(raw_inputs, padding=True, truncation=True, return_tensors='pt')\n",
    "# The inputs are not equal length all the time, so padding= true will add zeros to keep equal dimension array\n",
    "# truncation=True any sentence longer than that maximum the model can handle will be truncated\n",
    "\n",
    "print(inputs)"
   ]
  },
  {
   "cell_type": "markdown",
   "id": "78518e31",
   "metadata": {},
   "source": [
    "# Model"
   ]
  },
  {
   "cell_type": "code",
   "execution_count": 4,
   "id": "17d7417b",
   "metadata": {},
   "outputs": [
    {
     "name": "stdout",
     "output_type": "stream",
     "text": [
      "tensor([[-4.2329,  4.5928],\n",
      "        [ 4.6835, -3.6875]], grad_fn=<AddmmBackward0>)\n"
     ]
    }
   ],
   "source": [
    "\n",
    "from transformers import AutoModelForSequenceClassification\n",
    "\n",
    "model = AutoModelForSequenceClassification.from_pretrained(model_name)\n",
    "outputs = model(**inputs)\n",
    "print(outputs.logits)"
   ]
  },
  {
   "cell_type": "markdown",
   "id": "2a76768d",
   "metadata": {},
   "source": [
    "# Postprocessing "
   ]
  },
  {
   "cell_type": "code",
   "execution_count": 5,
   "id": "25705b16",
   "metadata": {},
   "outputs": [
    {
     "name": "stdout",
     "output_type": "stream",
     "text": [
      "tensor([[1.4689e-04, 9.9985e-01],\n",
      "        [9.9977e-01, 2.3145e-04]], grad_fn=<SoftmaxBackward0>)\n"
     ]
    }
   ],
   "source": [
    "import torch\n",
    "\n",
    "predictions = torch.nn.functional.softmax(outputs.logits, dim=1)\n",
    "print(predictions)"
   ]
  },
  {
   "cell_type": "code",
   "execution_count": 6,
   "id": "4d4ec4d2",
   "metadata": {},
   "outputs": [],
   "source": [
    "labels = torch.argmax(predictions, dim=1)"
   ]
  },
  {
   "cell_type": "code",
   "execution_count": 7,
   "id": "94f64ef8",
   "metadata": {},
   "outputs": [
    {
     "data": {
      "text/plain": [
       "tensor([1, 0])"
      ]
     },
     "execution_count": 7,
     "metadata": {},
     "output_type": "execute_result"
    }
   ],
   "source": [
    "labels"
   ]
  },
  {
   "cell_type": "code",
   "execution_count": 8,
   "id": "4951fe44",
   "metadata": {},
   "outputs": [],
   "source": [
    "labels = [model.config.id2label[label_id] for label_id in labels.tolist()]"
   ]
  },
  {
   "cell_type": "code",
   "execution_count": 9,
   "id": "d587dcb4",
   "metadata": {},
   "outputs": [
    {
     "data": {
      "text/plain": [
       "['POSITIVE', 'NEGATIVE']"
      ]
     },
     "execution_count": 9,
     "metadata": {},
     "output_type": "execute_result"
    }
   ],
   "source": [
    "labels"
   ]
  },
  {
   "cell_type": "code",
   "execution_count": null,
   "id": "22ed11a5",
   "metadata": {},
   "outputs": [],
   "source": []
  }
 ],
 "metadata": {
  "kernelspec": {
   "display_name": "Python 3 (ipykernel)",
   "language": "python",
   "name": "python3"
  },
  "language_info": {
   "codemirror_mode": {
    "name": "ipython",
    "version": 3
   },
   "file_extension": ".py",
   "mimetype": "text/x-python",
   "name": "python",
   "nbconvert_exporter": "python",
   "pygments_lexer": "ipython3",
   "version": "3.10.12"
  }
 },
 "nbformat": 4,
 "nbformat_minor": 5
}
